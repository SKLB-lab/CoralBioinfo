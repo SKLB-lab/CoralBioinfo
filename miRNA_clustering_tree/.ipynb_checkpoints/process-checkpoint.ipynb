{
 "cells": [
  {
   "cell_type": "code",
   "execution_count": 1,
   "metadata": {},
   "outputs": [],
   "source": [
    "miRNAs=['bfl-miR-100-5p','bfl-miR-96-5p','cin-miR-1-3p','dme-miR-1-3p','dme-miR-14-3p','hma-miR-2022','lgi-miR-100','nve-miR-100-5p','nve-miR-2022-3p','nve-miR-2023-3p','nve-miR-2025-3p','nve-miR-9415','pma-miR-16-5p','pma-miR-1b','pma-miR-218a-5p','pma-miR-218b','pma-miR-23a-3p','pma-miR-23b','pma-miR-24','pma-miR-26a-5p','pma-miR-26b-5p','pma-miR-30a-5p','pma-miR-30c-5p','pmi-miR-100-5p','ppc-miR-1','sko-miR-96-5p','159855nm1','159855nm10','159855nm101','159855nm102','159855nm103','159855nm104','159855nm105','159855nm107','159855nm108','159855nm11','159855nm112','159855nm114','159855nm115','159855nm116','159855nm117','159855nm118','159855nm120','159855nm121','159855nm122','159855nm123','159855nm124','159855nm125','159855nm128','159855nm13','159855nm131','159855nm132','159855nm133','159855nm134','159855nm136','159855nm139','159855nm14','159855nm141','159855nm142','159855nm143','159855nm145','159855nm148','159855nm149','159855nm150','159855nm151','159855nm154','159855nm155','159855nm156','159855nm157','159855nm160','159855nm161','159855nm162','159855nm165','159855nm169','159855nm17','159855nm170','159855nm171','159855nm173','159855nm174','159855nm175','159855nm177','159855nm178','159855nm179','159855nm18','159855nm180','159855nm182','159855nm183','159855nm184','159855nm186','159855nm187','159855nm189','159855nm19','159855nm193','159855nm194','159855nm195','159855nm197','159855nm199','159855nm200','159855nm203','159855nm207','159855nm208','159855nm209','159855nm210','159855nm211','159855nm212','159855nm213','159855nm214','159855nm215','159855nm217','159855nm218','159855nm220','159855nm222','159855nm224','159855nm227','159855nm228','159855nm23','159855nm231','159855nm232','159855nm233','159855nm234','159855nm235','159855nm239','159855nm24','159855nm241','159855nm243','159855nm244','159855nm246','159855nm25','159855nm261','159855nm262','159855nm263','159855nm264','159855nm265','159855nm266','159855nm267','159855nm268','159855nm269','159855nm27','159855nm270','159855nm274','159855nm28','159855nm280','159855nm32','159855nm33','159855nm34','159855nm37','159855nm38','159855nm40','159855nm41','159855nm42','159855nm45','159855nm47','159855nm48','159855nm49','159855nm50','159855nm54','159855nm55','159855nm59','159855nm60','159855nm61','159855nm64','159855nm65','159855nm70','159855nm73','159855nm74','159855nm77','159855nm78','159855nm79','159855nm80','159855nm81','159855nm84','159855nm85','159855nm87','159855nm88','159855nm89','159855nm9','159855nm90','159855nm94','159855nm96','159855nm97','159855nm99','bfl-let-7b','cel-let-7-5p','cin-let-7d-5p','cin-let-7e','dme-bantam-3p','dme-let-7-5p','dme-miR-315-5p','dme-miR-4968-3p','dme-miR-990-5p','sko-miR-315','sma-miR-8403-3p','246305nm1','246305nm10','246305nm100','246305nm102','246305nm103','246305nm104','246305nm107','246305nm108','246305nm109','246305nm11','246305nm112','246305nm114','246305nm115','246305nm117','246305nm119','246305nm12','246305nm122','246305nm124','246305nm125','246305nm127','246305nm129','246305nm132','246305nm134','246305nm135','246305nm136','246305nm137','246305nm138','246305nm139','246305nm140','246305nm141','246305nm17','246305nm19','246305nm2','246305nm20','246305nm21','246305nm22','246305nm23','246305nm24','246305nm25','246305nm26','246305nm29','246305nm3','246305nm31','246305nm33','246305nm36','246305nm37','246305nm38','246305nm39','246305nm4','246305nm45','246305nm46','246305nm5','246305nm54','246305nm55','246305nm56','246305nm57','246305nm59','246305nm6','246305nm60','246305nm61','246305nm63','246305nm64','246305nm66','246305nm67','246305nm68','246305nm69','246305nm71','246305nm73','246305nm74','246305nm76','246305nm79','246305nm8','246305nm81','246305nm82','246305nm83','246305nm85','246305nm86','246305nm87','246305nm89','246305nm9','246305nm92','246305nm93','246305nm94','246305nm96','246305nm97','246305nm98','246305nm99','cel-miR-2-3p','dme-miR-2a-3p','dme-miR-2c-3p','lgi-miR-2c','mle-miR-2c-3p','591990nm1','591990nm10','591990nm101','591990nm104','591990nm106','591990nm107','591990nm108','591990nm109','591990nm11','591990nm111','591990nm112','591990nm114','591990nm115','591990nm119','591990nm12','591990nm120','591990nm122','591990nm123','591990nm124','591990nm125','591990nm126','591990nm128','591990nm129','591990nm13','591990nm132','591990nm135','591990nm136','591990nm137','591990nm138','591990nm139','591990nm14','591990nm140','591990nm143','591990nm144','591990nm148','591990nm149','591990nm15','591990nm150','591990nm151','591990nm154','591990nm155','591990nm156','591990nm157','591990nm158','591990nm159','591990nm168','591990nm169','591990nm17','591990nm170','591990nm174','591990nm176','591990nm177','591990nm178','591990nm182','591990nm184','591990nm185','591990nm186','591990nm188','591990nm189','591990nm19','591990nm190','591990nm192','591990nm197','591990nm198','591990nm20','591990nm201','591990nm203','591990nm204','591990nm205','591990nm206','591990nm21','591990nm22','591990nm23','591990nm25','591990nm26','591990nm28','591990nm30','591990nm31','591990nm33','591990nm35','591990nm37','591990nm39','591990nm40','591990nm41','591990nm43','591990nm46','591990nm48','591990nm49','591990nm5','591990nm50','591990nm54','591990nm58','591990nm59','591990nm6','591990nm60','591990nm61','591990nm62','591990nm63','591990nm66','591990nm67','591990nm69','591990nm74','591990nm78','591990nm8','591990nm81','591990nm83','591990nm84','591990nm86','591990nm87','591990nm91','591990nm92','591990nm93','591990nm95','591990nm97','591990nm98','pma-miR-184','pma-miR-194-5p','50429nm1','50429nm11','50429nm12','50429nm15','50429nm16','50429nm17','50429nm18','50429nm2','50429nm20','50429nm22','50429nm24','50429nm26','50429nm27','50429nm30','50429nm31','50429nm32','50429nm33','50429nm35','50429nm36','50429nm38','50429nm39','50429nm4','50429nm40','50429nm43','50429nm44','50429nm48','50429nm49','50429nm51','50429nm53','50429nm55','50429nm57','50429nm6','50429nm60','50429nm7','50429nm8']\n",
    "seqs=['ACCCGUA','UUGGCAC','GGAAUGU','GGAAUGU','CAGUCUU','UUGCUAG','ACCCGUA','ACCCGUA','UUGCUAG','AAGAAGU','UUUUUAG','UACUUAC','AGCAGCA','GGAAUGU','UGUGCUU','UGUGCUU','UCACAUU','UCACAUU','GGCUCAG','UCAAGUA','UCAAGUA','GUAAACA','GUAAACA','ACCCGUA','GGAAUGU','UUGGCAC','AAUGUUU','UGCUACU','GUGCUCG','GGCGAUC','AGACUGG','UCAUGAU','CGGAUCA','CCCGUAG','AAUGUUU','UUUUUAG','GAAGUAC','AAAAAGA','UUGAAAA','UUAUGUC','AGAACUG','ACGACUC','CUAAAUC','AACUAGU','UCGGAUU','UCCAUCA','AACGGAC','GCUUCGG','CUCUGGA','AUGGAAC','AAAAUCG','UUUUUGC','CAUUGGA','GGCCCUG','GGUGGUG','UGUGGAA','GUGCACU','UUGGACA','GCCAUGU','AACUGCG','GGACGAC','CUGAGGA','AACAACU','GGCUCCU','GGAACGG','AAUGUUG','AUCCGUC','UGGUCUU','CAUGCGG','UUUACGG','GAGUGAG','AGAGGAA','AGUAGAG','UAUUCGA','UCCUGGG','ACAGUCG','UAAGAUC','AGGACUG','GUGUGCU','UUCCGAU','UGCGUAU','CCAAGGC','GUGGGCG','CUCACUG','AAACUGA','UCUGAUU','UUAUUGU','UGUUGGG','CGAUCUG','AGUUUAC','AAUGAUC','ACAUGUG','AGCGUCU','UACGAUC','GUGCUGU','UCGUCUC','UAUGAGC','GCCAUGA','UGGCUGU','GCGUUUG','UUUUGGG','UUGUAAA','AAUAUGG','AAGACGG','AUGGAAC','CGGACUG','UGGAAAG','ACCGGUC','CUGGGUA','GACUUAU','GAUCUUG','GGAGCAU','UCCCUGG','UUUUGGA','UUCUUCA','UUGCUAG','CGAGUGC','GGAAUUG','ACAGUGU','CUGGUAC','AUGUUGU','UGGCUUU','UCUUACU','AGGAUUG','AGAUAUG','UCCUUAA','UCGCGAU','AUGAUUG','ACAGAUA','UGAACUG','UCGAUGA','AACGGCU','CGGAUCC','AUUUACC','UAUUCGA','UUUGUUC','AAACUGC','UGUUGGA','GAAUUAG','CUUGGAA','CGUGGUG','CGGAGCU','GACAGGA','UGGGAUA','GGACUUG','UGUUCAC','GUAUAGG','UUCGGAU','UAUUGGC','AAAGGAU','AGAGAUA','UCGAGAU','UUCGGCU','AAUCGGG','UGGUACG','CACUGAA','AGGGAAU','UACUUUU','AACGCAA','AAACGAU','UCGACUG','AAGGAGG','UUGGGAG','UCGGCAC','GGACCCG','GCGGGAG','CGUACUG','AAUGAGC','UCUCGAG','GCGGACG','GAUCUCU','GGCCGCU','UGAAUUG','AAAGCAA','UUGUCGG','CUGCGUU','ACCCGGA','GUACGGU','UCGCGCG','UGAUUGU','GAGGUGA','ACUAUAC','GAGGUAG','GAGGUAG','GAGGUAG','GAGAUCA','GAGGUAG','UUUGAUU','AGCAACA','UUCACCG','UUUGAUU','UGACUGU','GACUAGU','AAGAGAU','GGUCUCU','GUUUACA','AGAAACC','AUGAGAA','GGGCUCA','ACCGGGA','GUGGAUG','CCGUACG','UCUAAGC','UUGACUG','UCGACUG','CCGGUUC','AAACAAU','CUGGUAC','ACACGUC','UUUAGUA','AGGUGAU','AGUGUGU','AAAUGGU','UGGUCAG','UCCUGUU','AACCUGC','GUGCUUG','CUCCCGA','CUCAGGG','CAAAGAG','AGGACUU','CCAUCUG','GCGGCUU','GUUGAUU','AGUAGAC','AGAGUGC','UCACGAU','CGGUCUG','AUCUUCU','UUUGUUU','GCUUGCU','GAGAUCU','UUGGAAU','CAAAAGC','CUCUCGA','UACAAAC','AAUACGA','GGAUUCA','UUCAUCA','GGUUGAC','AUCAGUC','GACUAGU','UGAACAA','GAUUCUC','GAAAACG','UUGUGCU','CACGGAC','CGUGAAU','UCUACAG','UACGGGU','UCGCGGC','GUGAAAG','CGUGAAU','UUGCCGU','GUUCUUG','GGAGUCA','UCUGGUG','GCAAGAU','GCCUGCU','GCGCCGU','GCGGAAG','GGACUUC','GGACACA','GACAUUU','UUGCCUG','UUCGGGU','AAAAUCU','UUGCAUU','CCGAUCU','GGUCACA','UUUUUCG','UCUUAAA','UGCGAUU','CAGGUGA','UAUGUUG','UUCGAGG','AGGAUGU','GACUCUG','UUUCAAG','AUCACAG','AUCACAG','AUCACAG','AUCACAG','AUCACAG','GACUAGU','UUGGAAU','UUUCGUG','UCUGGAU','AAGAAAC','GCUGGGU','ACUCAUG','GGCGGAU','CAUGGGC','GGGUGAG','GGCUGUG','AUGUGGC','UGGCGAU','AGGUUCC','AUAUUCA','UAAGAUG','AGGUGUU','UGUUGGA','AGUUCGA','CCGGAUC','AUUUUGA','UGUUUGA','CCAAAUA','AAUUGUG','CAUGAAA','AUUACUG','UUCGUUC','CGAGUUG','GGGAUUG','AAUCCGG','CUUAUAA','UGUGGCA','UGGGUUG','UGAUGGU','UCUUCUA','AGGAUUG','CGUGGGC','UUACACU','UGGUAUG','AGGGGUC','UGUCCAU','AAUCAGG','UGCAUGA','AGUGUUA','AGGACAG','AGAACUU','GUGGACA','UGAACAG','CUGGACC','UCGAUGG','GUUUACA','UGGCGCU','CAUUGCU','AAGAUCU','UUCUAAA','ACAUUAA','UUAAGGU','UUGUAGC','AAGAAUU','UUCAUAU','CAAAUGG','GACAAAG','UCGAUAG','GGAAGAA','UUCGUGU','CCCUGGA','CUCUAUC','GCUGUCA','AAUCCGG','ACUGGGG','UGGAUCU','AAAUGUG','AAGGAGG','CUCUAGA','UCUUCUU','CGACUUG','GAUGAUC','AAAUUGG','CGGGCAA','GGUAACU','AUCUUCU','UCCCUCG','AAUUAUC','AUGAGGU','AAUCUCA','UUUGCAU','AUUCUUG','AGGACGG','AAACUGG','AUUUGCG','UCCUCGA','AUGGACG','ACAUUUU','GCCUUGC','UUAUGAC','CGUGUGC','UGGUUGA','ACAUUUU','AUCAGUC','UGAGUCU','UGUUGUU','GAAUUCG','CUUUUGC','GUUCCCA','UGCACGA','AUUUUGG','UGUUGGU','GCGAUCG','AAGGAGG','UGGUCCU','UUUGUCA','UCGAGGC','AGAAUCU','GAUGGAG','UGUGCCA','GGACGGA','GUAACAG','AAUUUUG','CCGUUAC','GCGUUUC','CUCCCAC','CGUCUCG','UGAGGCC','AAACUGG','GUGAGUC','AGCGGUA','CACGAUU','UUUAUCG','GCGGGCA','AUGAUAU','UGCUUGU','GCUGUAU','CUGUGAC','UCUCUGU','AUGGUGA','AAGGGCA','UGGAAGA','UAUAAGA','GUGAAGU','UAUUUGU','UCUCGAG','ACAGGAA','CAGUUGA','AUUUGUC','CUUGGUU','GUCAAUG','UAGAGAU','GGAACUU','CUGACGA','ACUGAAA','UGUAUGG','GUGCUGG']"
   ]
  },
  {
   "cell_type": "code",
   "execution_count": 2,
   "metadata": {},
   "outputs": [],
   "source": [
    "with open(\"miFamGene\",'r') as f:\n",
    "    lines=f.readlines()\n",
    "    species={\"Acropora muricata\":{},\"Montipora capricornis\":{},\"Montipora foliosa\":{},\"Stylophora pistillata\":{}}\n",
    "    for line in lines:\n",
    "        [specie,miRNA,gene]=line.split('\\t')\n",
    "        if miRNA not in species[specie]:\n",
    "            species[specie][miRNA]=set()\n",
    "        species[specie][miRNA].add(gene)"
   ]
  },
  {
   "cell_type": "code",
   "execution_count": 3,
   "metadata": {},
   "outputs": [],
   "source": [
    "families={}\n",
    "with open(\"miFamSeed\",'r') as f:\n",
    "    lines=f.readlines()\n",
    "    for line in lines:\n",
    "        [family,seed]=line.split('\\t')\n",
    "        if family not in families:\n",
    "            families[family]=[{},{},{},{},{},{},{}]\n",
    "            for i in range(7):\n",
    "                families[family][i]['A']=0\n",
    "                families[family][i]['U']=0\n",
    "                families[family][i]['C']=0\n",
    "                families[family][i]['G']=0\n",
    "        for i in range(7):\n",
    "            families[family][i][seed[i]]=families[family][i][seed[i]]+1"
   ]
  },
  {
   "cell_type": "code",
   "execution_count": 4,
   "metadata": {},
   "outputs": [],
   "source": [
    "def FamDis(family,seq):\n",
    "    score=0.0\n",
    "    sum=7*(families[family][0]['A']+families[family][0]['U']+families[family][0]['C']+families[family][0]['G'])\n",
    "    for i in range(7):\n",
    "        score=score+families[family][i][seq[i]]\n",
    "    return score/sum\n",
    "for specie in [\"Acropora muricata\",\"Montipora capricornis\",\"Montipora foliosa\",\"Stylophora pistillata\"]:\n",
    "    fname=specie.replace(' ','_')+\".miFam\"\n",
    "    with open(fname,'w') as f:\n",
    "        for i in range(len(miRNAs)):\n",
    "            if miRNAs[i] in species[specie]:\n",
    "                f.write(miRNAs[i])\n",
    "                for family in families:\n",
    "                    f.write('\\t'+str(FamDis(family,seqs[i])))\n",
    "                f.write('\\n')"
   ]
  },
  {
   "cell_type": "code",
   "execution_count": 5,
   "metadata": {},
   "outputs": [],
   "source": [
    "def TarDis(i,j):\n",
    "    d=len(species[specie][miRNAs[i]]^species[specie][miRNAs[j]])/len(species[specie][miRNAs[i]]|species[specie][miRNAs[j]])\n",
    "    return d\n",
    "for specie in [\"Acropora muricata\",\"Montipora capricornis\",\"Montipora foliosa\",\"Stylophora pistillata\"]:\n",
    "    fname=specie.replace(' ','_')+\".miTar\"\n",
    "    with open(fname,'w') as fo:\n",
    "        for i in range(len(miRNAs)-1):\n",
    "            if miRNAs[i] in species[specie]:\n",
    "                fo.write(miRNAs[i])\n",
    "                for j in range(len(miRNAs)-1):\n",
    "                    if miRNAs[j] in species[specie]:\n",
    "                        fo.write('\\t'+str(TarDis(i,j)))\n",
    "                fo.write('\\n')"
   ]
  },
  {
   "cell_type": "code",
   "execution_count": 6,
   "metadata": {},
   "outputs": [],
   "source": [
    "import numpy as np\n",
    "from sklearn.manifold import TSNE\n",
    "for specie in [\"Acropora muricata\",\"Montipora capricornis\",\"Montipora foliosa\",\"Stylophora pistillata\"]:\n",
    "    with open(\"miFamGene\",'r') as f:\n",
    "        G1={}\n",
    "        G2=set()\n",
    "        for line in f:\n",
    "            [sp,miRNA,gene]=line.strip().split('\\t')\n",
    "            if sp==specie:\n",
    "                if miRNA not in G1:\n",
    "                    G1[miRNA]=set()\n",
    "                G1[miRNA].add(gene)\n",
    "                if gene not in G2:\n",
    "                    G2.add(gene)\n",
    "        G3=np.zeros([len(G1),len(G2)])\n",
    "        i=0\n",
    "        for miRNA in G1:\n",
    "            j=0\n",
    "            for gene in G2:\n",
    "                if gene in G1[miRNA]:\n",
    "                    G3[i,j]=1\n",
    "                else:\n",
    "                    G3[i,j]=0\n",
    "                j=j+1\n",
    "            i=i+1\n",
    "    fname=specie.replace(' ','_')+\".miFam\"\n",
    "    data=np.loadtxt(fname,dtype=float,usecols=range(1,730))\n",
    "    rownames=np.loadtxt(fname,dtype=str,usecols=0)\n",
    "    ts = TSNE(n_components=2)\n",
    "    ts.fit_transform(np.column_stack((data,G3)))\n",
    "    fname=specie.replace(' ','_')+\".miClus\"\n",
    "    np.savetxt(fname,np.column_stack((rownames,ts.embedding_)),fmt=\"%s\",delimiter='\\t')"
   ]
  }
 ],
 "metadata": {
  "kernelspec": {
   "display_name": "Python 3",
   "language": "python",
   "name": "python3"
  },
  "language_info": {
   "codemirror_mode": {
    "name": "ipython",
    "version": 3
   },
   "file_extension": ".py",
   "mimetype": "text/x-python",
   "name": "python",
   "nbconvert_exporter": "python",
   "pygments_lexer": "ipython3",
   "version": "3.7.3"
  }
 },
 "nbformat": 4,
 "nbformat_minor": 4
}
